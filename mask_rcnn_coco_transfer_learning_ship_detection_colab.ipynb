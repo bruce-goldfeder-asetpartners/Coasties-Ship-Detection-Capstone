{
  "metadata": {
    "kernelspec": {
      "language": "python",
      "display_name": "Python 3",
      "name": "python3"
    },
    "language_info": {
      "pygments_lexer": "ipython3",
      "nbconvert_exporter": "python",
      "version": "3.6.4",
      "file_extension": ".py",
      "codemirror_mode": {
        "name": "ipython",
        "version": 3
      },
      "name": "python",
      "mimetype": "text/x-python"
    },
    "colab": {
      "name": "mask-rcnn-coco-transfer-learning-ship-detection-colab.ipynb",
      "provenance": [],
      "include_colab_link": true
    }
  },
  "nbformat_minor": 0,
  "nbformat": 4,
  "cells": [
    {
      "cell_type": "markdown",
      "metadata": {
        "id": "view-in-github",
        "colab_type": "text"
      },
      "source": [
        "<a href=\"https://colab.research.google.com/github/bruce-goldfeder-asetpartners/Coasties-Ship-Detection-Capstone/blob/main/mask_rcnn_coco_transfer_learning_ship_detection_colab.ipynb\" target=\"_parent\"><img src=\"https://colab.research.google.com/assets/colab-badge.svg\" alt=\"Open In Colab\"/></a>"
      ]
    },
    {
      "cell_type": "markdown",
      "source": [
        "# Coasties Ship Detection using NOAA National Geodetic Survey Tampa Image Data Set\n",
        "## JAIC Create AI Jan 2022 Cohort \n",
        "#### Students\n",
        "* Sydney Wagner\n",
        "* Amilynn Adams\n",
        "* Evan Twarog\n",
        "* David Couture\n",
        "\n",
        "#### Facilitator\n",
        "* Bruce Goldfeder\n",
        "\n",
        "## Presentation Date April 22, 2022\n",
        "* Ship Object Detection using pre-trained COCO weights trained on http://cocodataset.org as in https://github.com/matterport/Mask_RCNN/tree/master/samples/balloon\n",
        "* Forked from Henri Mendoca Kaggle Notebook - https://www.kaggle.com/code/hmendonca/airbus-mask-rcnn-and-coco-transfer-learning\n",
        "\n",
        "\n"
      ],
      "metadata": {
        "id": "renIkhrwwIjZ"
      }
    },
    {
      "cell_type": "code",
      "source": [
        "#delete me after code is ported externally\n",
        "\n",
        "#!pip freeze > requirements.txt\n",
        "#!cat requirements.txt\n",
        "# This code downloads the Kaggle local file to your system\n",
        "#from IPython.display import FileLink\n",
        "#FileLink(r'requirements.txt')"
      ],
      "metadata": {
        "_kg_hide-output": true,
        "_kg_hide-input": true,
        "execution": {
          "iopub.status.busy": "2022-04-14T17:31:38.795251Z",
          "iopub.execute_input": "2022-04-14T17:31:38.795608Z",
          "iopub.status.idle": "2022-04-14T17:31:38.800566Z",
          "shell.execute_reply.started": "2022-04-14T17:31:38.795554Z",
          "shell.execute_reply": "2022-04-14T17:31:38.799843Z"
        },
        "trusted": true,
        "id": "qnKbTeHlwIjd"
      },
      "execution_count": null,
      "outputs": []
    },
    {
      "cell_type": "code",
      "source": [
        "#delete me after code is ported externally\n",
        "\n",
        "#!pwd\n",
        "#!ls -al"
      ],
      "metadata": {
        "_kg_hide-input": true,
        "execution": {
          "iopub.status.busy": "2022-04-14T17:31:38.802324Z",
          "iopub.execute_input": "2022-04-14T17:31:38.802916Z",
          "iopub.status.idle": "2022-04-14T17:31:38.811504Z",
          "shell.execute_reply.started": "2022-04-14T17:31:38.802868Z",
          "shell.execute_reply": "2022-04-14T17:31:38.810712Z"
        },
        "trusted": true,
        "id": "-Roiex6pwIje"
      },
      "execution_count": null,
      "outputs": []
    },
    {
      "cell_type": "code",
      "source": [
        "# Commiting for submission\n",
        "#debug = False\n",
        "debug = True"
      ],
      "metadata": {
        "_uuid": "cdb40bf9115f53810c9e13f0a50e53ed9eb6221b",
        "_kg_hide-input": true,
        "_kg_hide-output": true,
        "execution": {
          "iopub.status.busy": "2022-04-14T17:31:38.815399Z",
          "iopub.execute_input": "2022-04-14T17:31:38.816080Z",
          "iopub.status.idle": "2022-04-14T17:31:38.820210Z",
          "shell.execute_reply.started": "2022-04-14T17:31:38.816024Z",
          "shell.execute_reply": "2022-04-14T17:31:38.819281Z"
        },
        "trusted": true,
        "id": "i9zkdzHNwIje"
      },
      "execution_count": null,
      "outputs": []
    },
    {
      "cell_type": "code",
      "source": [
        "from google.colab import drive\n",
        "drive.mount('/content/drive')"
      ],
      "metadata": {
        "id": "Q-KVqze-wfQl",
        "outputId": "5a200cc1-f752-490d-dd4b-5b5f4e4c33dc",
        "colab": {
          "base_uri": "https://localhost:8080/"
        }
      },
      "execution_count": null,
      "outputs": [
        {
          "output_type": "stream",
          "name": "stdout",
          "text": [
            "Mounted at /content/drive\n"
          ]
        }
      ]
    },
    {
      "cell_type": "markdown",
      "source": [
        "# Step One - Setup\n",
        "1. Import required libraries\n",
        "2. Declare constants for data and output folders\n",
        "3. Import Matterport Mask-RCNN\n",
        "4. Download Pretrained COCO weights\n",
        "5. Create Configuration for model parameters\n",
        "6. Create Utility functions for manipulating image and mask data\n"
      ],
      "metadata": {
        "id": "FA-Ge30jwIjf"
      }
    },
    {
      "cell_type": "markdown",
      "source": [
        "* ### 1.1 Import python libraries"
      ],
      "metadata": {
        "id": "hRQAPS6MwIjf"
      }
    },
    {
      "cell_type": "code",
      "source": [
        "import os \n",
        "import sys\n",
        "import random\n",
        "import math\n",
        "import numpy as np\n",
        "import cv2\n",
        "import matplotlib.pyplot as plt\n",
        "import json\n",
        "from imgaug import augmenters as iaa\n",
        "from tqdm import tqdm\n",
        "import pandas as pd \n",
        "import glob \n",
        "from skimage.io import imread\n",
        "from matplotlib.cm import get_cmap\n",
        "from skimage.segmentation import mark_boundaries\n",
        "from skimage.util import montage\n",
        "from skimage.morphology import binary_opening, disk, label\n",
        "import gc; gc.enable() # memory is tight\n",
        "from tabulate import tabulate"
      ],
      "metadata": {
        "id": "4kjcC6QqywWl",
        "_uuid": "40c67b3ff0fa04587dec508363308adaa3ceaf34",
        "execution": {
          "iopub.status.busy": "2022-04-14T17:31:38.822504Z",
          "iopub.execute_input": "2022-04-14T17:31:38.823141Z",
          "iopub.status.idle": "2022-04-14T17:31:38.832185Z",
          "shell.execute_reply.started": "2022-04-14T17:31:38.823087Z",
          "shell.execute_reply": "2022-04-14T17:31:38.831525Z"
        },
        "trusted": true
      },
      "execution_count": null,
      "outputs": []
    },
    {
      "cell_type": "markdown",
      "source": [
        "* ### 1.2 Declare constants for folder locations"
      ],
      "metadata": {
        "id": "119uNSlBwIjh"
      }
    },
    {
      "cell_type": "code",
      "source": [
        "# Location for kaggle data for airbus ship detection\n",
        "#DATA_DIR = '/kaggle/input/airbus-ship-detection'\n",
        "DATA_DIR = '/content/drive/MyDrive/Capstone/images_unprocessed/'\n",
        "\n",
        "# Directory to save logs and trained model\n",
        "#ROOT_DIR = '/kaggle/working'\n",
        "ROOT_DIR = '/content/drive/MyDrive/Capstone/working'\n",
        "\n",
        "# Location for train and test data\n",
        "train_dir = os.path.join(DATA_DIR, 'train_v2')\n",
        "test_dir = os.path.join(DATA_DIR, 'test_v2')"
      ],
      "metadata": {
        "id": "yP0XLJx_x_6o",
        "_uuid": "6e5764759e6a0a9b698b44645658f66873edd807",
        "execution": {
          "iopub.status.busy": "2022-04-14T17:31:38.833223Z",
          "iopub.execute_input": "2022-04-14T17:31:38.835394Z",
          "iopub.status.idle": "2022-04-14T17:31:38.842948Z",
          "shell.execute_reply.started": "2022-04-14T17:31:38.835349Z",
          "shell.execute_reply": "2022-04-14T17:31:38.842317Z"
        },
        "trusted": true
      },
      "execution_count": null,
      "outputs": []
    },
    {
      "cell_type": "markdown",
      "source": [
        "* ### 1.3 Install Matterport's Mask-RCNN model from github.\n",
        "    * See the [Matterport's implementation of Mask-RCNN](https://github.com/matterport/Mask_RCNN)."
      ],
      "metadata": {
        "id": "kdYzLq1zfKL4",
        "_uuid": "576df4c47a23d08b1bdb384245e09aa69f88bbd3"
      }
    },
    {
      "cell_type": "code",
      "source": [
        "# Download the Mask-RCNN from Github\n",
        "!git clone https://www.github.com/matterport/Mask_RCNN.git\n",
        "os.chdir('Mask_RCNN')\n",
        "\n",
        "# Import Mask RCNN\n",
        "sys.path.append(os.path.join(ROOT_DIR, 'Mask_RCNN'))  # To find local version of the library\n",
        "from mrcnn.config import Config\n",
        "from mrcnn import utils\n",
        "import mrcnn.model as modellib\n",
        "from mrcnn import visualize\n",
        "from mrcnn.model import log"
      ],
      "metadata": {
        "id": "KgllzLnDr7kF",
        "_uuid": "b37d22551d332f0f7b722cc7204eb614524b6c21",
        "execution": {
          "iopub.status.busy": "2022-04-14T17:31:38.843952Z",
          "iopub.execute_input": "2022-04-14T17:31:38.844184Z",
          "iopub.status.idle": "2022-04-14T17:31:46.138021Z",
          "shell.execute_reply.started": "2022-04-14T17:31:38.844143Z",
          "shell.execute_reply": "2022-04-14T17:31:46.137083Z"
        },
        "trusted": true
      },
      "execution_count": null,
      "outputs": []
    },
    {
      "cell_type": "markdown",
      "source": [
        "* ### 1.4 Download COCO pre-trained weights"
      ],
      "metadata": {
        "_uuid": "f108beef7838be8a64dd512d395c5dc0ad952790",
        "id": "L7sTJNlhwIjj"
      }
    },
    {
      "cell_type": "code",
      "source": [
        "# Download the weights\n",
        "!wget --quiet https://github.com/matterport/Mask_RCNN/releases/download/v2.0/mask_rcnn_coco.h5\n",
        "!ls -lh mask_rcnn_coco.h5\n",
        "\n",
        "# Set constant for path to weights\n",
        "COCO_WEIGHTS_PATH = \"mask_rcnn_coco.h5\""
      ],
      "metadata": {
        "_uuid": "c3ee0cd0ee0b1defdec97b94bc736587c1f7631f",
        "execution": {
          "iopub.status.busy": "2022-04-14T17:31:46.139132Z",
          "iopub.execute_input": "2022-04-14T17:31:46.139410Z",
          "iopub.status.idle": "2022-04-14T17:32:03.869289Z",
          "shell.execute_reply.started": "2022-04-14T17:31:46.139363Z",
          "shell.execute_reply": "2022-04-14T17:32:03.868492Z"
        },
        "trusted": true,
        "id": "gGEgkGV9wIjj"
      },
      "execution_count": null,
      "outputs": []
    },
    {
      "cell_type": "markdown",
      "source": [
        "* ### 1.5 Configuration paramters for Mask-RCNN\n",
        "\n",
        "    * Hardware based configurations \n",
        "    * Architecture based configurations\n",
        "    * Mask-RCNN algorithm based configurations"
      ],
      "metadata": {
        "id": "gj-tvDvEaDiC",
        "_uuid": "032cc5fe4baa051108106675e6ca4f4fdb2846ed"
      }
    },
    {
      "cell_type": "code",
      "source": [
        "# The following parameters have been selected to reduce running time for demonstration purposes \n",
        "# These are not optimal \n",
        "\n",
        "class DetectorConfig(Config):    \n",
        "    # Give the configuration a recognizable name  \n",
        "    NAME = 'airbus'\n",
        "    \n",
        "    # Hardware based config\n",
        "    GPU_COUNT = 1\n",
        "    IMAGES_PER_GPU = 9\n",
        "    \n",
        "    # Architecture based config\n",
        "    BACKBONE = 'resnet50'    \n",
        "    NUM_CLASSES = 2  # background and ship classes\n",
        "    \n",
        "    # Algorithm based config\n",
        "    IMAGE_MIN_DIM = 384\n",
        "    IMAGE_MAX_DIM = 384\n",
        "    RPN_ANCHOR_SCALES = (8, 16, 32, 64)\n",
        "    TRAIN_ROIS_PER_IMAGE = 64\n",
        "    MAX_GT_INSTANCES = 14\n",
        "    DETECTION_MAX_INSTANCES = 10\n",
        "    DETECTION_MIN_CONFIDENCE = 0.95\n",
        "    DETECTION_NMS_THRESHOLD = 0.0\n",
        "    \n",
        "    STEPS_PER_EPOCH = 15 if debug else 150\n",
        "    VALIDATION_STEPS = 10 if debug else 125\n",
        "    \n",
        "    ## balance out losses\n",
        "    LOSS_WEIGHTS = {\n",
        "        \"rpn_class_loss\": 30.0,\n",
        "        \"rpn_bbox_loss\": 0.8,\n",
        "        \"mrcnn_class_loss\": 6.0,\n",
        "        \"mrcnn_bbox_loss\": 1.0,\n",
        "        \"mrcnn_mask_loss\": 1.2\n",
        "    }\n",
        "\n",
        "config = DetectorConfig()\n",
        "config.display()"
      ],
      "metadata": {
        "id": "_SfzTa-1zOck",
        "_uuid": "dfcffc4eaa94a41497717851dee9f702d8a2a73b",
        "execution": {
          "iopub.status.busy": "2022-04-14T17:32:03.870447Z",
          "iopub.execute_input": "2022-04-14T17:32:03.870721Z",
          "iopub.status.idle": "2022-04-14T17:32:03.891587Z",
          "shell.execute_reply.started": "2022-04-14T17:32:03.870674Z",
          "shell.execute_reply": "2022-04-14T17:32:03.890740Z"
        },
        "trusted": true
      },
      "execution_count": null,
      "outputs": []
    },
    {
      "cell_type": "markdown",
      "source": [
        "**Train: 192556 (768,768,3)**  \n",
        "**Test :  15606 (768,768,3)**"
      ],
      "metadata": {
        "id": "MCEe4KKvwIjl"
      }
    },
    {
      "cell_type": "markdown",
      "source": [
        "* ### 1.6 Utility functions for image and mask data manipulation\n",
        "    * Making montages from several images \n",
        "    * Run Length Encoding (RLE) decoding and encoding to parse the RLE formatted masking data in the csv data files\n",
        "    * Converting mask data into images for viewing"
      ],
      "metadata": {
        "id": "iDhRavUkwIjl"
      }
    },
    {
      "cell_type": "code",
      "source": [
        "# Function for creating montages of several images\n",
        "montage_rgb = lambda x: np.stack([montage(x[:, :, :, i]) for i in range(x.shape[3])], -1) # to rgb function\n",
        "\n",
        "# RLE encode and decode functions\n",
        "# ref: https://www.kaggle.com/paulorzp/run-length-encode-and-decode\n",
        "def multi_rle_encode(img, **kwargs):\n",
        "    '''\n",
        "    Encode connected regions as separated masks\n",
        "    '''\n",
        "    labels = label(img)\n",
        "    if img.ndim > 2:\n",
        "        return [rle_encode(np.sum(labels==k, axis=2), **kwargs) for k in np.unique(labels[labels>0])]\n",
        "    else:\n",
        "        return [rle_encode(labels==k, **kwargs) for k in np.unique(labels[labels>0])]\n",
        "\n",
        "\n",
        "def rle_encode(img, min_max_threshold=1e-3, max_mean_threshold=None): # raster to rle coding \n",
        "    '''\n",
        "    img: numpy array, 1 - mask, 0 - background\n",
        "    Returns run length as string formated\n",
        "    '''\n",
        "    if np.max(img) < min_max_threshold:\n",
        "        return '' ## no need to encode if it's all zeros\n",
        "    if max_mean_threshold and np.mean(img) > max_mean_threshold:\n",
        "        return '' ## ignore overfilled mask\n",
        "    pixels = img.T.flatten()\n",
        "    pixels = np.concatenate([[0], pixels, [0]])\n",
        "    runs = np.where(pixels[1:] != pixels[:-1])[0] + 1\n",
        "    runs[1::2] -= runs[::2]\n",
        "    return ' '.join(str(x) for x in runs)\n",
        "\n",
        "def rle_decode(mask_rle, shape=(768, 768)): # rle coding to raster\n",
        "    '''\n",
        "    mask_rle: run-length as string formated (start length)\n",
        "    shape: (height,width) of array to return \n",
        "    Returns numpy array, 1 - mask, 0 - background\n",
        "    '''\n",
        "    s = mask_rle.split()\n",
        "    starts, lengths = [np.asarray(x, dtype=int) for x in (s[0:][::2], s[1:][::2])]\n",
        "    starts -= 1\n",
        "    ends = starts + lengths\n",
        "    img = np.zeros(shape[0]*shape[1], dtype=np.uint8)\n",
        "    for lo, hi in zip(starts, ends):\n",
        "        img[lo:hi] = 1\n",
        "    return img.reshape(shape).T  # Needed to align to RLE direction\n",
        "\n",
        "# Mask image creation black and white and color for mulitple ships for viewing\n",
        "def masks_as_image(in_mask_list):\n",
        "    # Take the individual ship masks and create a single mask array for all ships\n",
        "    all_masks = np.zeros((768, 768), dtype = np.uint8)\n",
        "    for mask in in_mask_list:\n",
        "        if isinstance(mask, str):\n",
        "            all_masks |= rle_decode(mask)\n",
        "    return all_masks\n",
        "\n",
        "def masks_as_color(in_mask_list):\n",
        "    # Take the individual ship masks and create a color mask array for each ships\n",
        "    all_masks = np.zeros((768, 768), dtype = np.float)\n",
        "    scale = lambda x: (len(in_mask_list)+x+1) / (len(in_mask_list)*2) ## scale the heatmap image to shift \n",
        "    for i,mask in enumerate(in_mask_list):\n",
        "        if isinstance(mask, str):\n",
        "            all_masks[:,:] += scale(i) * rle_decode(mask)\n",
        "    return all_masks"
      ],
      "metadata": {
        "_uuid": "6136132b1f1b311e297d9432772ec4a81230924f",
        "execution": {
          "iopub.status.busy": "2022-04-14T17:32:03.892619Z",
          "iopub.execute_input": "2022-04-14T17:32:03.892891Z",
          "iopub.status.idle": "2022-04-14T17:32:03.912466Z",
          "shell.execute_reply.started": "2022-04-14T17:32:03.892847Z",
          "shell.execute_reply": "2022-04-14T17:32:03.911504Z"
        },
        "trusted": true,
        "id": "FIdxxAUFwIjl"
      },
      "execution_count": null,
      "outputs": []
    },
    {
      "cell_type": "markdown",
      "source": [
        "# Step Two - Data Exploration and Cleaning\n",
        "* ### Read in and view the image mask data in RLE format\n",
        "    * RLE is run-length encoding. It is used to encode the location of foreground objects in segmentation. Instead of outputting a mask image, you give a list of start pixels and how many pixels after each of those starts is included in the mask."
      ],
      "metadata": {
        "id": "OCecxXVSwIjl"
      }
    },
    {
      "cell_type": "code",
      "source": [
        "# Read in the mask data from the training dataset\n",
        "SEGMENTATION = DATA_DIR + '/train_ship_segmentations_v2.csv'\n",
        "anns = pd.read_csv(SEGMENTATION)\n",
        "\n",
        "# Display the first five rows first is truncated second is full RLE listing for mask\n",
        "print(anns[:5])\n",
        "print('\\nSame table with full listing for RLE encoded pixels\\n')\n",
        "print(tabulate(anns[:5],headers='firstrow'))\n"
      ],
      "metadata": {
        "_uuid": "3050fa77026411ffdc27bed4a9b667ec0467e4ce",
        "execution": {
          "iopub.status.busy": "2022-04-14T17:32:03.917990Z",
          "iopub.execute_input": "2022-04-14T17:32:03.918602Z",
          "iopub.status.idle": "2022-04-14T17:32:04.537648Z",
          "shell.execute_reply.started": "2022-04-14T17:32:03.918553Z",
          "shell.execute_reply": "2022-04-14T17:32:04.536801Z"
        },
        "trusted": true,
        "id": "cDZcaGP4wIjm"
      },
      "execution_count": null,
      "outputs": []
    },
    {
      "cell_type": "markdown",
      "source": [
        "* ### Remove all the junk images\n",
        "    * Cleaning the data by removing all invalid images from the train and test data sets\n",
        "    * These were provided by forked version"
      ],
      "metadata": {
        "id": "-rrGh0AswIjm"
      }
    },
    {
      "cell_type": "code",
      "source": [
        "# Note that this step may not be needed as the training only uses positive training of images with ships\n",
        "# None of the images that are unreadable have any ships on them\n",
        "\n",
        "from PIL import Image\n",
        "from sklearn.model_selection import train_test_split\n",
        "\n",
        "exclude_list = ['6384c3e78.jpg','13703f040.jpg', '14715c06d.jpg',  '33e0ff2d5.jpg',\n",
        "                '4d4e09f2a.jpg', '877691df8.jpg', '8b909bb20.jpg', 'a8d99130e.jpg', \n",
        "                'ad55c3143.jpg', 'c8260c541.jpg', 'd6c7f17c7.jpg', 'dc3e7c901.jpg',\n",
        "                'e44dffe88.jpg', 'ef87bad36.jpg', 'f083256d8.jpg'] #corrupted images\n",
        "\n",
        "train_names = [f for f in os.listdir(train_dir) if f not in exclude_list]\n",
        "test_names = [f for f in os.listdir(test_dir) if f not in exclude_list]\n",
        "\n",
        "print(len(train_names), len(test_names))"
      ],
      "metadata": {
        "_uuid": "d3e05fa1a38c637fa228acd62b92dd41117a6672",
        "execution": {
          "iopub.status.busy": "2022-04-14T17:32:04.541171Z",
          "iopub.execute_input": "2022-04-14T17:32:04.541649Z",
          "iopub.status.idle": "2022-04-14T17:32:04.772067Z",
          "shell.execute_reply.started": "2022-04-14T17:32:04.541584Z",
          "shell.execute_reply": "2022-04-14T17:32:04.771222Z"
        },
        "trusted": true,
        "id": "d-ncTNlMwIjm"
      },
      "execution_count": null,
      "outputs": []
    },
    {
      "cell_type": "markdown",
      "source": [
        "* ### Create the Train and Validation data sets (called test)"
      ],
      "metadata": {
        "id": "tXt76IyVwIjm"
      }
    },
    {
      "cell_type": "code",
      "source": [
        "# Note - this value is overwriting the assignment in above cell, why? None of them have ships in them so OK\n",
        "train_names = anns[anns.EncodedPixels.notnull()].ImageId.unique().tolist()  ## override with ships\n",
        "print('Are bad images in files with ships? ',exclude_list in train_names)\n",
        "print(\"Uniq image list containing ships:\",np.shape(train_names))\n",
        "\n",
        "test_size = config.VALIDATION_STEPS * config.IMAGES_PER_GPU # 10*9\n",
        "print('Test Size is ', test_size)\n",
        "image_fps_train, image_fps_val = train_test_split(train_names, test_size=test_size, random_state=42)\n",
        "\n",
        "if debug:\n",
        "    image_fps_train = image_fps_train[:100]\n",
        "    image_fps_val = image_fps_val[:100]\n",
        "    test_names = test_names[:100]\n",
        "    \n",
        "print(\"train:\",len(image_fps_train), \"val:\",len(image_fps_val), \"test:\",len(test_names))\n",
        "\n",
        "# TODO - not sure why this is here\n",
        "image_fps, image_annotations = train_names, anns\n",
        "print(\"Uniq image list containing ships:\",np.shape(image_fps))\n",
        "print(\"Train ship segmentations csv file:\",np.shape(image_annotations))"
      ],
      "metadata": {
        "_uuid": "904636402355a305f7b2ccacb8cc55d52151d2e6",
        "execution": {
          "iopub.status.busy": "2022-04-14T17:32:04.773354Z",
          "iopub.execute_input": "2022-04-14T17:32:04.773919Z",
          "iopub.status.idle": "2022-04-14T17:32:04.875586Z",
          "shell.execute_reply.started": "2022-04-14T17:32:04.773868Z",
          "shell.execute_reply": "2022-04-14T17:32:04.874804Z"
        },
        "trusted": true,
        "id": "QlrH3TAgwIjn"
      },
      "execution_count": null,
      "outputs": []
    },
    {
      "cell_type": "markdown",
      "source": [
        "* ### Class for loading and viewing the image and mask data combined\n",
        "    * Encapsulation in a class makes this set of data reads and functions easier to use"
      ],
      "metadata": {
        "id": "C4BwQQXRwIjn"
      }
    },
    {
      "cell_type": "code",
      "source": [
        "class DetectorDataset(utils.Dataset):\n",
        "    \"\"\"\n",
        "    Dataset class for training our dataset.\n",
        "    This class inherits from the MRCNN.utils.Dataset class and is used for preparing\n",
        "    data to be input into a Matterport Mask-RCNN model for training and inference\n",
        "    https://github.com/matterport/Mask_RCNN/blob/master/mrcnn/utils.py \n",
        "    \"\"\"\n",
        "\n",
        "    def __init__(self, image_fps, image_annotations, orig_height, orig_width):\n",
        "        super().__init__(self)\n",
        "        \n",
        "        # Add classes\n",
        "        self.add_class('ship', 1, 'Ship')\n",
        "        \n",
        "        # add images by iterating through the files names getting index and filename\n",
        "        for i, fp in enumerate(image_fps):\n",
        "            annotations = image_annotations.query('ImageId==\"' + fp + '\"')['EncodedPixels']\n",
        "            self.add_image('ship', image_id=i, path=os.path.join(train_dir, fp), \n",
        "                           annotations=annotations, orig_height=orig_height, orig_width=orig_width)\n",
        "            \n",
        "    def image_reference(self, image_id):\n",
        "        info = self.image_info[image_id]\n",
        "        return info['path']\n",
        "\n",
        "    def load_image(self, image_id):\n",
        "        info = self.image_info[image_id]\n",
        "        fp = info['path']\n",
        "        image = imread(fp)\n",
        "        # If grayscale. Convert to RGB for consistency.\n",
        "        if len(image.shape) != 3 or image.shape[2] != 3:\n",
        "            image = np.stack((image,) * 3, -1)\n",
        "        return image\n",
        "\n",
        "    def load_mask(self, image_id):\n",
        "        info = self.image_info[image_id]\n",
        "        annotations = info['annotations']\n",
        "#         print(image_id, annotations)\n",
        "        count = len(annotations)\n",
        "        if count == 0:\n",
        "            mask = np.zeros((info['orig_height'], info['orig_width'], 1), dtype=np.uint8)\n",
        "            class_ids = np.zeros((1,), dtype=np.int32)\n",
        "        else:\n",
        "            mask = np.zeros((info['orig_height'], info['orig_width'], count), dtype=np.uint8)\n",
        "            class_ids = np.zeros((count,), dtype=np.int32)\n",
        "            for i, a in enumerate(annotations):\n",
        "                mask[:, :, i] = rle_decode(a)\n",
        "                class_ids[i] = 1\n",
        "        return mask.astype(np.bool), class_ids.astype(np.int32)"
      ],
      "metadata": {
        "id": "8EBVA1M60yAj",
        "_uuid": "52bd3ffbdde0173a363055482d675da51c2aba99",
        "execution": {
          "iopub.status.busy": "2022-04-14T17:32:04.876637Z",
          "iopub.execute_input": "2022-04-14T17:32:04.876879Z",
          "iopub.status.idle": "2022-04-14T17:32:04.896242Z",
          "shell.execute_reply.started": "2022-04-14T17:32:04.876834Z",
          "shell.execute_reply": "2022-04-14T17:32:04.892348Z"
        },
        "trusted": true
      },
      "execution_count": null,
      "outputs": []
    },
    {
      "cell_type": "markdown",
      "source": [
        "* ### Take a look at an image with a ship on it"
      ],
      "metadata": {
        "id": "9RlMo04ckd98",
        "_uuid": "1cb852e262b69d348743767d675573368ab672c9"
      }
    },
    {
      "cell_type": "code",
      "source": [
        "ds = imread(os.path.join(train_dir, image_fps[0])) # read  image from filepath \n",
        "plt.imshow(ds)\n",
        "\n",
        "# Original image size: 768 x 768\n",
        "ORIG_SIZE = ds.shape[0]\n",
        "print(\"Image original size:\",ORIG_SIZE)"
      ],
      "metadata": {
        "id": "YPqjEIXWRhSf",
        "_uuid": "6c386dcef041b972f6209dd19e247d547c3c349f",
        "execution": {
          "iopub.status.busy": "2022-04-14T17:32:04.897654Z",
          "iopub.execute_input": "2022-04-14T17:32:04.898255Z",
          "iopub.status.idle": "2022-04-14T17:32:05.200587Z",
          "shell.execute_reply.started": "2022-04-14T17:32:04.898096Z",
          "shell.execute_reply": "2022-04-14T17:32:05.199661Z"
        },
        "trusted": true
      },
      "execution_count": null,
      "outputs": []
    },
    {
      "cell_type": "markdown",
      "source": [
        "* ### Format the training and validation datasets for Matterport Mask-RCNN"
      ],
      "metadata": {
        "id": "9KUvacUbgiEX",
        "_uuid": "a5143c19dc22bc00d318a3b28cb7e13c7fbacc8a"
      }
    },
    {
      "cell_type": "code",
      "source": [
        "%%time\n",
        "# prepare the training dataset\n",
        "dataset_train = DetectorDataset(image_fps_train, image_annotations, ORIG_SIZE, ORIG_SIZE)\n",
        "dataset_train.prepare()"
      ],
      "metadata": {
        "id": "jwMkhotP0yFf",
        "_uuid": "86c3333d4dfb8b7d00ce1f401693d0df4e6254e1",
        "execution": {
          "iopub.status.busy": "2022-04-14T17:32:05.201940Z",
          "iopub.execute_input": "2022-04-14T17:32:05.205257Z",
          "iopub.status.idle": "2022-04-14T17:32:06.192579Z",
          "shell.execute_reply.started": "2022-04-14T17:32:05.205011Z",
          "shell.execute_reply": "2022-04-14T17:32:06.191776Z"
        },
        "trusted": true
      },
      "execution_count": null,
      "outputs": []
    },
    {
      "cell_type": "code",
      "source": [
        "%%time\n",
        "# prepare the validation dataset\n",
        "dataset_val = DetectorDataset(image_fps_val, image_annotations, ORIG_SIZE, ORIG_SIZE)\n",
        "dataset_val.prepare()"
      ],
      "metadata": {
        "id": "K1TkWuGP0yHl",
        "_uuid": "313347d838fa8321a714858c8073f98c50c5be26",
        "execution": {
          "iopub.status.busy": "2022-04-14T17:32:06.193766Z",
          "iopub.execute_input": "2022-04-14T17:32:06.194202Z",
          "iopub.status.idle": "2022-04-14T17:32:07.079148Z",
          "shell.execute_reply.started": "2022-04-14T17:32:06.194154Z",
          "shell.execute_reply": "2022-04-14T17:32:07.078359Z"
        },
        "trusted": true
      },
      "execution_count": null,
      "outputs": []
    },
    {
      "cell_type": "markdown",
      "source": [
        "* ### Display a random image with bounding boxes"
      ],
      "metadata": {
        "id": "pEXEt8fygWuC",
        "_uuid": "600a8135d4e382f62797d69e9358f5697873c8f9"
      }
    },
    {
      "cell_type": "code",
      "source": [
        "# Load and display random sample and their bounding boxes\n",
        "\n",
        "class_ids = [0]\n",
        "while class_ids[0] == 0:  ## look for a mask\n",
        "    image_id = random.choice(dataset_val.image_ids) # random image id 0-90\n",
        "    image_fp = dataset_val.image_reference(image_id) # current image\n",
        "    image = dataset_val.load_image(image_id) # load image\n",
        "    mask, class_ids = dataset_val.load_mask(image_id)\n",
        "print(\"image shape:\",image.shape)\n",
        "print(\"mask shape :\",mask.shape)\n",
        "print(\"image file:\",image_fp, \"class_id:\",class_ids)\n",
        "\n",
        "plt.figure(figsize=(10, 10))\n",
        "plt.subplot(1, 2, 1)\n",
        "plt.imshow(image)\n",
        "plt.axis('off')\n",
        "\n",
        "plt.subplot(1, 2, 2)\n",
        "masked = np.zeros(image.shape[:2])\n",
        "for i in range(mask.shape[2]):\n",
        "    masked += mask[:, :, i] ## * image[:, :, 0]\n",
        "plt.imshow(masked, cmap='gray')\n",
        "plt.axis('off')"
      ],
      "metadata": {
        "id": "4xwsrf9G1lHR",
        "_uuid": "491b78ec96d28fcdbbf8e2d7f9320a05d64c9249",
        "execution": {
          "iopub.status.busy": "2022-04-14T17:32:07.080467Z",
          "iopub.execute_input": "2022-04-14T17:32:07.080796Z",
          "iopub.status.idle": "2022-04-14T17:32:07.434429Z",
          "shell.execute_reply.started": "2022-04-14T17:32:07.080746Z",
          "shell.execute_reply": "2022-04-14T17:32:07.433390Z"
        },
        "trusted": true
      },
      "execution_count": null,
      "outputs": []
    },
    {
      "cell_type": "markdown",
      "source": [
        "* ### Image Augmentation used to mutate images to increase number of input images for training"
      ],
      "metadata": {
        "id": "ustAIH78hZI_",
        "_uuid": "342b6008873fe7a6a0870a712ee47a87f0d2828d"
      }
    },
    {
      "cell_type": "code",
      "source": [
        "# Image augmentation (light but constant)\n",
        "augmentation = iaa.Sequential([\n",
        "    iaa.OneOf([ ## rotate\n",
        "        iaa.Affine(rotate=0),\n",
        "        iaa.Affine(rotate=90),\n",
        "        iaa.Affine(rotate=180),\n",
        "        iaa.Affine(rotate=270),\n",
        "    ]),\n",
        "    iaa.Fliplr(0.5),\n",
        "    iaa.Flipud(0.5),\n",
        "    iaa.OneOf([ ## brightness or contrast\n",
        "        iaa.Multiply((0.9, 1.1)),\n",
        "        iaa.ContrastNormalization((0.9, 1.1)),\n",
        "    ]),\n",
        "    iaa.OneOf([ ## blur or sharpen\n",
        "        iaa.GaussianBlur(sigma=(0.0, 0.1)),\n",
        "        iaa.Sharpen(alpha=(0.0, 0.1)),\n",
        "    ]),\n",
        "])\n",
        "\n",
        "# test on the same image as above\n",
        "imggrid = augmentation.draw_grid(image, cols=4, rows=2)\n",
        "plt.figure(figsize=(15, 15))\n",
        "plt.imshow(imggrid.astype(int))"
      ],
      "metadata": {
        "id": "STZnQTE61lME",
        "_uuid": "4ab9d6086ce611a46f189c047956c43b29783e6d",
        "execution": {
          "iopub.status.busy": "2022-04-14T17:32:07.435603Z",
          "iopub.execute_input": "2022-04-14T17:32:07.435942Z",
          "iopub.status.idle": "2022-04-14T17:32:08.923245Z",
          "shell.execute_reply.started": "2022-04-14T17:32:07.435891Z",
          "shell.execute_reply": "2022-04-14T17:32:08.922558Z"
        },
        "trusted": true
      },
      "execution_count": null,
      "outputs": []
    },
    {
      "cell_type": "markdown",
      "source": [
        "## Step Three - Training the model\n",
        "On a P100 GPU debug size takes about 10 minutes, non-debug about 90 minutes\n",
        "\n",
        "Note: the following model is for demonstration purpose only. We have limited the training to one epoch, and have set nominal values for the Detector Configuration to reduce run-time. \n",
        "\n",
        "- dataset_train and dataset_val are derived from DetectorDataset \n",
        "- DetectorDataset loads images from image filenames and  masks from the annotation data\n",
        "- model is Mask-RCNN"
      ],
      "metadata": {
        "id": "M4kt7LKuc78e",
        "_uuid": "7e65d2cecb283f446f34cdde19b663a8a8e9590f"
      }
    },
    {
      "cell_type": "code",
      "source": [
        "model = modellib.MaskRCNN(mode='training', config=config, model_dir=ROOT_DIR) #  ROOT_DIR:output path\n",
        "\n",
        "# Exclude the last layers because they require a matching\n",
        "# number of classes\n",
        "model.load_weights(COCO_WEIGHTS_PATH, by_name=True, exclude=[\n",
        "    \"mrcnn_class_logits\", \"mrcnn_bbox_fc\",\n",
        "    \"mrcnn_bbox\", \"mrcnn_mask\"])"
      ],
      "metadata": {
        "_uuid": "138d6197fc8dce9f1f8a7b5a6c27aa2069698e03",
        "execution": {
          "iopub.status.busy": "2022-04-14T17:32:08.924418Z",
          "iopub.execute_input": "2022-04-14T17:32:08.925015Z",
          "iopub.status.idle": "2022-04-14T17:32:20.379513Z",
          "shell.execute_reply.started": "2022-04-14T17:32:08.924954Z",
          "shell.execute_reply": "2022-04-14T17:32:20.378750Z"
        },
        "trusted": true,
        "id": "OA8Fh6E9wIjr"
      },
      "execution_count": null,
      "outputs": []
    },
    {
      "cell_type": "code",
      "source": [
        "LEARNING_RATE = 0.003\n",
        "\n",
        "# Train Mask-RCNN Model \n",
        "import warnings \n",
        "warnings.filterwarnings(\"ignore\")"
      ],
      "metadata": {
        "id": "RVgNhHjl1lOS",
        "_uuid": "64cce2581ffdb8c2b1cb07948ada4a93f64874b0",
        "execution": {
          "iopub.status.busy": "2022-04-14T17:32:20.380442Z",
          "iopub.execute_input": "2022-04-14T17:32:20.380702Z",
          "iopub.status.idle": "2022-04-14T17:32:20.385364Z",
          "shell.execute_reply.started": "2022-04-14T17:32:20.380657Z",
          "shell.execute_reply": "2022-04-14T17:32:20.384569Z"
        },
        "trusted": true
      },
      "execution_count": null,
      "outputs": []
    },
    {
      "cell_type": "code",
      "source": [
        "%%time\n",
        "## train heads with higher lr to speedup the learning  2*LEARNING_RATE\n",
        "model.train(dataset_train, dataset_val,\n",
        "            learning_rate=LEARNING_RATE*2,\n",
        "            epochs=2,\n",
        "            layers='heads',\n",
        "            augmentation=None)  ## no need to augment yet\n",
        "\n",
        "history = model.keras_model.history.history"
      ],
      "metadata": {
        "_uuid": "cf339a499519d174bcdf2311a1802f0e3acb1758",
        "execution": {
          "iopub.status.busy": "2022-04-14T17:32:20.386539Z",
          "iopub.execute_input": "2022-04-14T17:32:20.387003Z",
          "iopub.status.idle": "2022-04-14T17:37:37.453912Z",
          "shell.execute_reply.started": "2022-04-14T17:32:20.386951Z",
          "shell.execute_reply": "2022-04-14T17:37:37.449405Z"
        },
        "trusted": true,
        "id": "S8dXe93iwIjr"
      },
      "execution_count": null,
      "outputs": []
    },
    {
      "cell_type": "code",
      "source": [
        "%%time\n",
        " # LEARNING_RATE\n",
        "model.train(dataset_train, dataset_val,\n",
        "            learning_rate=LEARNING_RATE,\n",
        "            epochs=4 if debug else 14,\n",
        "            layers='all',\n",
        "            augmentation=augmentation)\n",
        "\n",
        "new_history = model.keras_model.history.history\n",
        "for k in new_history: history[k] = history[k] + new_history[k]"
      ],
      "metadata": {
        "_uuid": "8004790d27f041793562e994bbe95edf67f8978b",
        "execution": {
          "iopub.status.busy": "2022-04-14T17:37:37.458990Z",
          "iopub.execute_input": "2022-04-14T17:37:37.464262Z",
          "iopub.status.idle": "2022-04-14T17:42:42.257010Z",
          "shell.execute_reply.started": "2022-04-14T17:37:37.464192Z",
          "shell.execute_reply": "2022-04-14T17:42:42.255033Z"
        },
        "trusted": true,
        "id": "ABCxEDBcwIjr"
      },
      "execution_count": null,
      "outputs": []
    },
    {
      "cell_type": "code",
      "source": [
        "%%time\n",
        "### LEARNING_RATE/2 fine tuning işleminde overfiting olmaması için lr traine göre düşürülür.\n",
        "model.train(dataset_train, dataset_val,\n",
        "            learning_rate=LEARNING_RATE/2,\n",
        "            epochs=6 if debug else 22,\n",
        "            layers='all',\n",
        "            augmentation=augmentation)\n",
        "\n",
        "new_history = model.keras_model.history.history\n",
        "for k in new_history: history[k] = history[k] + new_history[k]"
      ],
      "metadata": {
        "_uuid": "e0f55437aaa49e58ae60225a035fa8a3f6b604d3",
        "execution": {
          "iopub.status.busy": "2022-04-14T17:42:42.264963Z",
          "iopub.execute_input": "2022-04-14T17:42:42.265996Z",
          "iopub.status.idle": "2022-04-14T17:48:19.476003Z",
          "shell.execute_reply.started": "2022-04-14T17:42:42.265368Z",
          "shell.execute_reply": "2022-04-14T17:48:19.473956Z"
        },
        "trusted": true,
        "id": "z2A9ge-ewIjr"
      },
      "execution_count": null,
      "outputs": []
    },
    {
      "cell_type": "code",
      "source": [
        "epochs = range(1, len(history['loss'])+1)\n",
        "pd.DataFrame(history, index=epochs)"
      ],
      "metadata": {
        "_uuid": "71abf32327a102e1c22e944b24d98690c71d9560",
        "execution": {
          "iopub.status.busy": "2022-04-14T17:48:19.483866Z",
          "iopub.execute_input": "2022-04-14T17:48:19.491385Z",
          "iopub.status.idle": "2022-04-14T17:48:19.582222Z",
          "shell.execute_reply.started": "2022-04-14T17:48:19.484253Z",
          "shell.execute_reply": "2022-04-14T17:48:19.581071Z"
        },
        "trusted": true,
        "id": "0xn-6geKwIjs"
      },
      "execution_count": null,
      "outputs": []
    },
    {
      "cell_type": "code",
      "source": [
        "plt.figure(figsize=(21,11))\n",
        "\n",
        "plt.subplot(231)\n",
        "plt.plot(epochs, history[\"loss\"], label=\"Train loss\")\n",
        "plt.plot(epochs, history[\"val_loss\"], label=\"Valid loss\")\n",
        "plt.legend()\n",
        "plt.subplot(232)\n",
        "plt.plot(epochs, history[\"rpn_class_loss\"], label=\"Train RPN class ce\")\n",
        "plt.plot(epochs, history[\"val_rpn_class_loss\"], label=\"Valid RPN class ce\")\n",
        "plt.legend()\n",
        "plt.subplot(233)\n",
        "plt.plot(epochs, history[\"rpn_bbox_loss\"], label=\"Train RPN box loss\")\n",
        "plt.plot(epochs, history[\"val_rpn_bbox_loss\"], label=\"Valid RPN box loss\")\n",
        "plt.legend()\n",
        "plt.subplot(234)\n",
        "plt.plot(epochs, history[\"mrcnn_class_loss\"], label=\"Train MRCNN class ce\")\n",
        "plt.plot(epochs, history[\"val_mrcnn_class_loss\"], label=\"Valid MRCNN class ce\")\n",
        "plt.legend()\n",
        "plt.subplot(235)\n",
        "plt.plot(epochs, history[\"mrcnn_bbox_loss\"], label=\"Train MRCNN box loss\")\n",
        "plt.plot(epochs, history[\"val_mrcnn_bbox_loss\"], label=\"Valid MRCNN box loss\")\n",
        "plt.legend()\n",
        "plt.subplot(236)\n",
        "plt.plot(epochs, history[\"mrcnn_mask_loss\"], label=\"Train Mask loss\")\n",
        "plt.plot(epochs, history[\"val_mrcnn_mask_loss\"], label=\"Valid Mask loss\")\n",
        "plt.legend()\n",
        "\n",
        "plt.show()"
      ],
      "metadata": {
        "_uuid": "fb3b69242b91dcc49697ff076ceeb957347372e1",
        "execution": {
          "iopub.status.busy": "2022-04-14T17:48:19.586736Z",
          "iopub.execute_input": "2022-04-14T17:48:19.590406Z",
          "iopub.status.idle": "2022-04-14T17:48:23.038172Z",
          "shell.execute_reply.started": "2022-04-14T17:48:19.590357Z",
          "shell.execute_reply": "2022-04-14T17:48:23.037106Z"
        },
        "trusted": true,
        "id": "MkACIt-pwIjs"
      },
      "execution_count": null,
      "outputs": []
    },
    {
      "cell_type": "code",
      "source": [
        "best_epoch = np.argmin(history[\"val_loss\"])\n",
        "score = history[\"val_loss\"][best_epoch]\n",
        "print(f'Best Epoch:{best_epoch+1} val_loss:{score}')"
      ],
      "metadata": {
        "_uuid": "5c2b38ecbc84575295dd62657ed175c5a0b72021",
        "execution": {
          "iopub.status.busy": "2022-04-14T17:48:23.044053Z",
          "iopub.execute_input": "2022-04-14T17:48:23.046016Z",
          "iopub.status.idle": "2022-04-14T17:48:23.060042Z",
          "shell.execute_reply.started": "2022-04-14T17:48:23.045954Z",
          "shell.execute_reply": "2022-04-14T17:48:23.058770Z"
        },
        "trusted": true,
        "id": "tfGLqtgCwIjs"
      },
      "execution_count": null,
      "outputs": []
    },
    {
      "cell_type": "code",
      "source": [
        "# select trained model \n",
        "dir_names = next(os.walk(model.model_dir))[1]\n",
        "key = config.NAME.lower()\n",
        "dir_names = filter(lambda f: f.startswith(key), dir_names)\n",
        "dir_names = sorted(dir_names)\n",
        "\n",
        "if not dir_names:\n",
        "    import errno\n",
        "    raise FileNotFoundError(\n",
        "        errno.ENOENT,\n",
        "        \"Could not find model directory under {}\".format(self.model_dir))\n",
        "\n",
        "fps = []\n",
        "# Pick last directory\n",
        "for d in dir_names: \n",
        "    dir_name = os.path.join(model.model_dir, d)\n",
        "    # Find the last checkpoint\n",
        "    checkpoints = next(os.walk(dir_name))[2]\n",
        "    checkpoints = filter(lambda f: f.startswith(\"mask_rcnn\"), checkpoints)\n",
        "    checkpoints = sorted(checkpoints)\n",
        "    if not checkpoints:\n",
        "        print('No weight files in {}'.format(dir_name))\n",
        "    else:\n",
        "        checkpoint = os.path.join(dir_name, checkpoints[best_epoch])\n",
        "        fps.append(checkpoint)\n",
        "\n",
        "model_path = sorted(fps)[-1]\n",
        "print('Found model {}'.format(model_path))"
      ],
      "metadata": {
        "id": "eraRlzgPmmIZ",
        "_uuid": "db5c10d3f7da099e5751a04a6e6d49819882ecd4",
        "execution": {
          "iopub.status.busy": "2022-04-14T17:48:23.061820Z",
          "iopub.execute_input": "2022-04-14T17:48:23.062581Z",
          "iopub.status.idle": "2022-04-14T17:48:23.098669Z",
          "shell.execute_reply.started": "2022-04-14T17:48:23.062522Z",
          "shell.execute_reply": "2022-04-14T17:48:23.096850Z"
        },
        "trusted": true
      },
      "execution_count": null,
      "outputs": []
    },
    {
      "cell_type": "markdown",
      "source": [
        "## Step Four - Run the Test set and submit"
      ],
      "metadata": {
        "id": "VVH7UEnPwIjt"
      }
    },
    {
      "cell_type": "code",
      "source": [
        "class InferenceConfig(DetectorConfig):\n",
        "    GPU_COUNT = 1\n",
        "    IMAGES_PER_GPU = 1\n",
        "\n",
        "inference_config = InferenceConfig()\n",
        "\n",
        "# Recreate the model in inference mode\n",
        "model = modellib.MaskRCNN(mode='inference', \n",
        "                          config=inference_config,\n",
        "                          model_dir=ROOT_DIR)\n",
        "\n",
        "# Load trained weights (fill in path to trained weights here)\n",
        "assert model_path != \"\", \"Provide path to trained weights\"\n",
        "print(\"Loading weights from \", model_path)\n",
        "model.load_weights(model_path, by_name=True)"
      ],
      "metadata": {
        "id": "TgpT9AzC2Bgz",
        "_uuid": "52138636b2ae5bf444bba808518cd8313bde65cd",
        "execution": {
          "iopub.status.busy": "2022-04-14T17:48:23.101705Z",
          "iopub.execute_input": "2022-04-14T17:48:23.103202Z",
          "iopub.status.idle": "2022-04-14T17:48:32.281150Z",
          "shell.execute_reply.started": "2022-04-14T17:48:23.102942Z",
          "shell.execute_reply": "2022-04-14T17:48:32.280201Z"
        },
        "trusted": true
      },
      "execution_count": null,
      "outputs": []
    },
    {
      "cell_type": "code",
      "source": [
        "# set color for class\n",
        "def get_colors_for_class_ids(class_ids):\n",
        "    colors = []\n",
        "    for class_id in class_ids:\n",
        "        if class_id == 1:\n",
        "            colors.append((.941, .204, .204))\n",
        "    return colors"
      ],
      "metadata": {
        "id": "9mTBig7D2BjU",
        "_uuid": "e13c61bee23b791c61ecf1256f7512295cd4d9ab",
        "execution": {
          "iopub.status.busy": "2022-04-14T17:48:32.282420Z",
          "iopub.execute_input": "2022-04-14T17:48:32.282908Z",
          "iopub.status.idle": "2022-04-14T17:48:32.288938Z",
          "shell.execute_reply.started": "2022-04-14T17:48:32.282853Z",
          "shell.execute_reply": "2022-04-14T17:48:32.288178Z"
        },
        "trusted": true
      },
      "execution_count": null,
      "outputs": []
    },
    {
      "cell_type": "markdown",
      "source": [
        "* ### How does the predicted box compared to the expected value? Let's use the validation dataset to check. "
      ],
      "metadata": {
        "id": "A8EiL2LOiCr_",
        "_uuid": "f99fbd3f31ff1a2bd66764835c9b646375364598"
      }
    },
    {
      "cell_type": "code",
      "source": [
        "# Show few example of ground truth vs. predictions on the validation dataset \n",
        "dataset = dataset_val\n",
        "fig = plt.figure(figsize=(10, 40))\n",
        "\n",
        "for i in range(8):\n",
        "\n",
        "    image_id = random.choice(dataset.image_ids)\n",
        "    \n",
        "    original_image, image_meta, gt_class_id, gt_bbox, gt_mask =\\\n",
        "        modellib.load_image_gt(dataset_val, inference_config, \n",
        "                               image_id, use_mini_mask=False)\n",
        "    \n",
        "#     print(original_image.shape)\n",
        "    plt.subplot(8, 2, 2*i + 1)\n",
        "    visualize.display_instances(original_image, gt_bbox, gt_mask, gt_class_id, \n",
        "                                dataset.class_names,\n",
        "                                colors=get_colors_for_class_ids(gt_class_id), ax=fig.axes[-1])\n",
        "    \n",
        "    plt.subplot(8, 2, 2*i + 2)\n",
        "    results = model.detect([original_image]) #, verbose=1)\n",
        "    r = results[0]\n",
        "    visualize.display_instances(original_image, r['rois'], r['masks'], r['class_ids'], \n",
        "                                dataset.class_names, r['scores'], \n",
        "                                colors=get_colors_for_class_ids(r['class_ids']), ax=fig.axes[-1])"
      ],
      "metadata": {
        "id": "irheTbrW2Bl0",
        "_uuid": "186412199e25b98719f71cfe5e8869abcce516c4",
        "execution": {
          "iopub.status.busy": "2022-04-14T17:48:32.290307Z",
          "iopub.execute_input": "2022-04-14T17:48:32.290859Z",
          "iopub.status.idle": "2022-04-14T17:48:38.444105Z",
          "shell.execute_reply.started": "2022-04-14T17:48:32.290810Z",
          "shell.execute_reply": "2022-04-14T17:48:38.443341Z"
        },
        "trusted": true
      },
      "execution_count": null,
      "outputs": []
    },
    {
      "cell_type": "markdown",
      "source": [
        "* ### Final steps - Create the filtered submission file"
      ],
      "metadata": {
        "id": "WcV1cL_aiSc4",
        "_uuid": "164e18701a830bc6c42a791feea13549de37289b"
      }
    },
    {
      "cell_type": "code",
      "source": [
        "# Get filenames of test dataset images\n",
        "test_image_fps = test_names"
      ],
      "metadata": {
        "_uuid": "5a124f21c2918ac4cb40ce99c852b86ea223d7e4",
        "execution": {
          "iopub.status.busy": "2022-04-14T17:48:38.445171Z",
          "iopub.execute_input": "2022-04-14T17:48:38.445569Z",
          "iopub.status.idle": "2022-04-14T17:48:38.449378Z",
          "shell.execute_reply.started": "2022-04-14T17:48:38.445508Z",
          "shell.execute_reply": "2022-04-14T17:48:38.448723Z"
        },
        "trusted": true,
        "id": "6wEp8FSgwIju"
      },
      "execution_count": null,
      "outputs": []
    },
    {
      "cell_type": "code",
      "source": [
        "DETECTION_TEST_PRED = '/kaggle/input/fine-tuning-resnet34-on-ship-detection-new-data/ship_detection.csv'\n",
        "ship_detection = pd.read_csv(DETECTION_TEST_PRED, index_col='id')\n",
        "ship_detection.head()"
      ],
      "metadata": {
        "_uuid": "a5b7afbfbcde9afe9ef3d80263ad7f55a85531f0",
        "execution": {
          "iopub.status.busy": "2022-04-14T17:48:38.450402Z",
          "iopub.execute_input": "2022-04-14T17:48:38.450831Z",
          "iopub.status.idle": "2022-04-14T17:48:38.494797Z",
          "shell.execute_reply.started": "2022-04-14T17:48:38.450778Z",
          "shell.execute_reply": "2022-04-14T17:48:38.493889Z"
        },
        "trusted": true,
        "id": "qNoLslMLwIju"
      },
      "execution_count": null,
      "outputs": []
    },
    {
      "cell_type": "code",
      "source": [
        "THRESHOLD = 0.45\n",
        "test_names_nothing = ship_detection.loc[ship_detection['p_ship'] <= THRESHOLD].index.tolist()\n",
        "len(test_names_nothing), len(ship_detection), len(test_names_nothing)/len(ship_detection)"
      ],
      "metadata": {
        "_uuid": "02321d63a0610d91f9dae621002dc7d4cce57034",
        "execution": {
          "iopub.status.busy": "2022-04-14T17:48:38.496116Z",
          "iopub.execute_input": "2022-04-14T17:48:38.496801Z",
          "iopub.status.idle": "2022-04-14T17:48:38.511580Z",
          "shell.execute_reply.started": "2022-04-14T17:48:38.496610Z",
          "shell.execute_reply": "2022-04-14T17:48:38.510720Z"
        },
        "trusted": true,
        "id": "5C8nFlNgwIju"
      },
      "execution_count": null,
      "outputs": []
    },
    {
      "cell_type": "code",
      "source": [
        "# Make predictions on test images, write out sample submission\n",
        "def predict(image_fps, filepath='submission.csv', min_conf=config.DETECTION_MIN_CONFIDENCE):\n",
        "    # assume square image\n",
        "    resize_factor = ORIG_SIZE / config.IMAGE_SHAPE[0]\n",
        "    #resize_factor = ORIG_SIZE\n",
        "    with open(filepath, 'w') as file:\n",
        "        file.write(\"ImageId,EncodedPixels\\n\")\n",
        "\n",
        "        for image_id in tqdm(image_fps):\n",
        "            found = False\n",
        "            \n",
        "            if image_id not in test_names_nothing:\n",
        "                image = imread(os.path.join(test_dir, image_id))\n",
        "                # If grayscale. Convert to RGB for consistency.\n",
        "                if len(image.shape) != 3 or image.shape[2] != 3:\n",
        "                    image = np.stack((image,) * 3, -1)\n",
        "#                 image, window, scale, padding, crop = utils.resize_image(\n",
        "#                     image,\n",
        "#                     min_dim=config.IMAGE_MIN_DIM,\n",
        "#                     min_scale=config.IMAGE_MIN_SCALE,\n",
        "#                     max_dim=config.IMAGE_MAX_DIM,\n",
        "#                     mode=config.IMAGE_RESIZE_MODE)\n",
        "\n",
        "                results = model.detect([image])\n",
        "                r = results[0]\n",
        "\n",
        "                assert( len(r['rois']) == len(r['class_ids']) == len(r['scores']) )\n",
        "                if len(r['rois']) == 0:\n",
        "                    pass  ## no ship\n",
        "                else:\n",
        "                    num_instances = len(r['rois'])\n",
        "\n",
        "                    for i in range(num_instances):\n",
        "                        if r['scores'][i] > min_conf:\n",
        "#                             print(r['scores'][i], r['rois'][i], r['masks'].shape, np.sum(r['masks'][...,i]))\n",
        "#                             plt.imshow(r['masks'][...,i], cmap=get_cmap('jet'))\n",
        "                            file.write(image_id + \",\" + rle_encode(r['masks'][...,i]) + \"\\n\")\n",
        "                            found = True\n",
        "\n",
        "            if not found:\n",
        "                file.write(image_id + \",\\n\")  ## no ship"
      ],
      "metadata": {
        "id": "C6UWVrbM2Bob",
        "_uuid": "4a5c0c6134408ddbf5a34496d7e9d7be5692e9a1",
        "execution": {
          "iopub.status.busy": "2022-04-14T17:48:38.513050Z",
          "iopub.execute_input": "2022-04-14T17:48:38.513448Z",
          "iopub.status.idle": "2022-04-14T17:48:38.529091Z",
          "shell.execute_reply.started": "2022-04-14T17:48:38.513297Z",
          "shell.execute_reply": "2022-04-14T17:48:38.528392Z"
        },
        "trusted": true
      },
      "execution_count": null,
      "outputs": []
    },
    {
      "cell_type": "code",
      "source": [
        "submission_fp = os.path.join(ROOT_DIR, 'submission.csv')\n",
        "predict(test_image_fps, filepath=submission_fp)\n",
        "print(submission_fp)"
      ],
      "metadata": {
        "id": "C5cBpNka2Bsv",
        "_uuid": "0406e7f5aaa4867782c4f9c064f90bba386128e7",
        "execution": {
          "iopub.status.busy": "2022-04-14T17:48:38.536433Z",
          "iopub.execute_input": "2022-04-14T17:48:38.537005Z",
          "iopub.status.idle": "2022-04-14T17:48:42.112077Z",
          "shell.execute_reply.started": "2022-04-14T17:48:38.536955Z",
          "shell.execute_reply": "2022-04-14T17:48:42.111029Z"
        },
        "trusted": true
      },
      "execution_count": null,
      "outputs": []
    },
    {
      "cell_type": "code",
      "source": [
        "sub = pd.read_csv(submission_fp)\n",
        "print(sub.EncodedPixels.isnull().sum(), sub.ImageId.nunique(), sub.EncodedPixels.isnull().sum()/sub.ImageId.nunique())\n",
        "sub.head(50)"
      ],
      "metadata": {
        "id": "_BjPE_Ee9rbA",
        "_uuid": "3fd8d178fc51ef0bca94fbb3f423160f08a77edc",
        "execution": {
          "iopub.status.busy": "2022-04-14T17:48:42.114182Z",
          "iopub.execute_input": "2022-04-14T17:48:42.114634Z",
          "iopub.status.idle": "2022-04-14T17:48:42.140279Z",
          "shell.execute_reply.started": "2022-04-14T17:48:42.114440Z",
          "shell.execute_reply": "2022-04-14T17:48:42.139541Z"
        },
        "trusted": true
      },
      "execution_count": null,
      "outputs": []
    },
    {
      "cell_type": "code",
      "source": [
        "# show a few test image detection example\n",
        "def visualize_test(): \n",
        "    image_id = random.choice(test_names)\n",
        "    \n",
        "    # original image\n",
        "#     print(image_id)\n",
        "    image = imread(os.path.join(test_dir, image_id))\n",
        "    \n",
        "    # assume square image \n",
        "    resize_factor = 1 ## ORIG_SIZE / config.IMAGE_SHAPE[0]\n",
        "    \n",
        "    # If grayscale. Convert to RGB for consistency.\n",
        "    if len(image.shape) != 3 or image.shape[2] != 3:\n",
        "        image = np.stack((image,) * 3, -1) \n",
        "#     image, window, scale, padding, crop = utils.resize_image(\n",
        "#         image,\n",
        "#         min_dim=config.IMAGE_MIN_DIM,\n",
        "#         min_scale=config.IMAGE_MIN_SCALE,\n",
        "#         max_dim=config.IMAGE_MAX_DIM,\n",
        "#         mode=config.IMAGE_RESIZE_MODE)\n",
        "\n",
        "    results = model.detect([image])\n",
        "    r = results[0]\n",
        "    for bbox in r['rois']: \n",
        "#         print(bbox)\n",
        "        x1 = int(bbox[1] * resize_factor)\n",
        "        y1 = int(bbox[0] * resize_factor)\n",
        "        x2 = int(bbox[3] * resize_factor)\n",
        "        y2 = int(bbox[2]  * resize_factor)\n",
        "        cv2.rectangle(image, (x1,y1), (x2,y2), (77, 255, 9), 3, 1)\n",
        "        width = x2 - x1 \n",
        "        height = y2 - y1 \n",
        "#         print(\"x {} y {} h {} w {}\".format(x1, y1, width, height))\n",
        "    fig, (ax1, ax2) = plt.subplots(1, 2, figsize=(10, 5))\n",
        "    ax1.set_title(f\"{image_id}\")\n",
        "    ax1.imshow(image)\n",
        "    ax2.set_title(f\"{len(r['rois'])} masks if prob:{ship_detection.loc[image_id][0]:.6f}\")\n",
        "    ax2.imshow(masks_as_color(sub.query(f\"ImageId=='{image_id}'\")['EncodedPixels']))\n",
        "\n",
        "for i in range(8):\n",
        "    visualize_test()"
      ],
      "metadata": {
        "_uuid": "ea110f197abc2acb1c3435383f7259079dc0eb0e",
        "execution": {
          "iopub.status.busy": "2022-04-14T17:48:42.141498Z",
          "iopub.execute_input": "2022-04-14T17:48:42.142053Z",
          "iopub.status.idle": "2022-04-14T17:48:47.875605Z",
          "shell.execute_reply.started": "2022-04-14T17:48:42.141995Z",
          "shell.execute_reply": "2022-04-14T17:48:47.874661Z"
        },
        "trusted": true,
        "id": "XtLzMdzPwIju"
      },
      "execution_count": null,
      "outputs": []
    },
    {
      "cell_type": "code",
      "source": [
        "# Save a local copy of the submission file just in case\n",
        "!cd /kaggle/working\n",
        "from IPython.display import FileLink\n",
        "FileLink(r'../submission.csv')"
      ],
      "metadata": {
        "execution": {
          "iopub.status.busy": "2022-04-14T17:51:23.949116Z",
          "iopub.execute_input": "2022-04-14T17:51:23.949438Z",
          "iopub.status.idle": "2022-04-14T17:51:24.752266Z",
          "shell.execute_reply.started": "2022-04-14T17:51:23.949381Z",
          "shell.execute_reply": "2022-04-14T17:51:24.751380Z"
        },
        "trusted": true,
        "id": "RVMb8FYfwIjv"
      },
      "execution_count": null,
      "outputs": []
    },
    {
      "cell_type": "code",
      "source": [
        "# remove files to allow committing (hit files limit otherwise)\n",
        "!rm -rf /kaggle/working/Mask_RCNN"
      ],
      "metadata": {
        "_uuid": "835a15c9d018acd5deb16e9e02f9b765f68d0e78",
        "execution": {
          "iopub.status.busy": "2022-04-14T17:48:47.885864Z",
          "iopub.execute_input": "2022-04-14T17:48:47.886361Z",
          "iopub.status.idle": "2022-04-14T17:48:48.810734Z",
          "shell.execute_reply.started": "2022-04-14T17:48:47.886106Z",
          "shell.execute_reply": "2022-04-14T17:48:48.809761Z"
        },
        "trusted": true,
        "id": "FPSNhgLIwIjv"
      },
      "execution_count": null,
      "outputs": []
    }
  ]
}